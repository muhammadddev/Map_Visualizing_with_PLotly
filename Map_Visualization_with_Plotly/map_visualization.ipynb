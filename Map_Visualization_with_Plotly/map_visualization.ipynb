{
 "cells": [
  {
   "cell_type": "code",
   "execution_count": 33,
   "metadata": {
    "scrolled": true
   },
   "outputs": [
    {
     "name": "stdout",
     "output_type": "stream",
     "text": [
      "everything already installed\n"
     ]
    }
   ],
   "source": [
    "import json\n",
    "import copy\n",
    "\n",
    "import numpy as np\n",
    "import pandas as pd\n",
    "\n",
    "import plotly\n",
    "import plotly.offline as py\n",
    "import plotly.graph_objs as go\n",
    "import plotly.figure_factory as ff\n",
    "# import cufflinks as cf\n",
    "\n",
    "from ipywidgets import widgets, interact, VBox\n",
    "\n",
    "from fuzzywuzzy import fuzz, process\n",
    "\n",
    "from matplotlib.colors import Normalize\n",
    "from matplotlib import cm\n",
    "\n",
    "from itertools import product\n",
    "from collections import Counter\n",
    "\n",
    "from config import *\n",
    "\n",
    "print(\"everything already installed\")"
   ]
  },
  {
   "cell_type": "code",
   "execution_count": 2,
   "metadata": {},
   "outputs": [],
   "source": [
    "\n",
    "def get_centers():\n",
    "    lon, lat = [], []\n",
    "\n",
    "    for k in range(n_provinces):\n",
    "        geometry = geojson['features'][k]['geometry']\n",
    "\n",
    "        if geometry['type'] == 'Polygon':\n",
    "            coords = np.array(geometry['coordinates'][0])\n",
    "        elif geometry['type'] == 'MultiPolygon':\n",
    "            coords = np.array(geometry['coordinates'][0][0])\n",
    "\n",
    "        lon.append(sum(coords[:,0]) / len(coords[:,0]))\n",
    "        lat.append(sum(coords[:,1]) / len(coords[:,1]))\n",
    "\n",
    "    return lon, lat\n",
    "\n",
    "def match_regions(list1, list2):\n",
    "    matched = [process.extract(list1[i], list2, limit=1, scorer = fuzz.partial_ratio)[0][0] for i in range(0, len(list1))]\n",
    "    return {key: value for (key, value) in zip(list1, matched)}\n",
    "\n",
    "\n",
    "def make_sources(): # TODO: if you want downsampling add downsample object for function argument\n",
    "    sources = []\n",
    "    geojson_copy = copy.deepcopy(geojson['features'])\n",
    "\n",
    "    for feature in geojson_copy:\n",
    "        sources.append(dict(type = 'FeatureCollection', features = [feature]))\n",
    "\n",
    "        # if downsample > 0:\n",
    "        #     coords = np.array(feature['geometry']['coordinates'][0][0])\n",
    "        #     coords = coords[::downsample]\n",
    "        #     feature['geometry']['coordinates'] = [[coords]]\n",
    "\n",
    "    return sources\n",
    "\n",
    "def scalarmappable(cmap, cmin, cmax):\n",
    "        colormap = cm.get_cmap(cmap)\n",
    "        norm = Normalize(vmin=cmin, vmax=cmax)\n",
    "        return cm.ScalarMappable(norm=norm, cmap=colormap)\n",
    "\n",
    "def get_scatter_colors(sm, df):\n",
    "    grey = 'rgba(128,128,128,1)'\n",
    "    return ['rgba' + str(sm.to_rgba(m, bytes = True, alpha = 1)) if not np.isnan(m) else grey for m in df]\n",
    "\n",
    "def get_colorscale(sm, df, cmin, cmax):\n",
    "    xrange = np.linspace(0, 1, len(df))\n",
    "    values = np.linspace(cmin, cmax, len(df))\n",
    "\n",
    "\n",
    "    return [[i, 'rgba' + str(sm.to_rgba(v, bytes = True))] for i,v in zip(xrange, values) ]\n",
    "def get_hover_text(df) :\n",
    "    text_value = (df).astype(str) + \"\"\n",
    "    with_data = '<b>{}</b> <br> {}'\n",
    "    no_data = '<b>{}</b> <br> no data'\n",
    "\n",
    "    return [with_data.format(p,v) if v != 'nan%' else no_data.format(p) for p,v in zip(df.index, text_value)]\n",
    "\n",
    "def get_data_layout(df):\n",
    "\n",
    "    sources = make_sources()\n",
    "    n_provinces = len(geojson['features'])\n",
    "\n",
    "    layouts = []\n",
    "    for i in range(len(df)):\n",
    "        \n",
    "        scatter_colors = df[i]['marker']['color']\n",
    "\n",
    "        layers=([dict(sourcetype = 'geojson',\n",
    "                      source =sources[k],\n",
    "                      below=\"\",\n",
    "                      type = 'line',    # the borders\n",
    "                      line = dict(width = 1),\n",
    "                      color = 'black',\n",
    "                      ) for k in range(n_provinces)\n",
    "                  ] +\n",
    "\n",
    "                [dict(sourcetype = 'geojson',\n",
    "                      source =sources[k],\n",
    "                      below=\"water\",\n",
    "                      type = 'fill',\n",
    "                      color = scatter_colors[k],\n",
    "                      opacity=0.8,\n",
    "                     ) for k in range(n_provinces)]\n",
    "                 )\n",
    "\n",
    "        layout = dict(title=\"IRAN 2016 POPULATION\",\n",
    "                      autosize=False,\n",
    "                      width=700,\n",
    "                      height=800,\n",
    "                      hovermode='closest',\n",
    "                      # hoverdistance = 30,\n",
    "\n",
    "                      mapbox=dict(accesstoken=MAPBOX_APIKEY,\n",
    "                                  layers=layers,\n",
    "                                  bearing=0,\n",
    "                                  center=dict(\n",
    "                                            lat=35.715298,\n",
    "                                            lon=51.404343),\n",
    "                                  pitch=0,\n",
    "                                  zoom=4.9,\n",
    "                                  style = 'dark'),\n",
    "                      # sliders=sliders,\n",
    "                      )\n",
    "        layouts.append(layout)\n",
    "\n",
    "    return layouts\n"
   ]
  },
  {
   "cell_type": "code",
   "execution_count": 3,
   "metadata": {},
   "outputs": [],
   "source": [
    "df = pd.read_csv(\"/home/muhammad/Envs/map_proj/code/Map_Visualization_with_Plotly/Census_2016_Population_by_age_groups_and_sex (copy).csv\", index_col=0)\n",
    "columns = df.columns.tolist()"
   ]
  },
  {
   "cell_type": "code",
   "execution_count": 4,
   "metadata": {},
   "outputs": [],
   "source": [
    "with open('/home/muhammad/Envs/map_proj/code/Map_Visualization_with_Plotly/iran_geo.json') as f:\n",
    "    geojson = json.load(f)\n",
    "\n",
    "n_provinces = len(geojson['features'])\n",
    "provinces_names = [geojson['features'][k]['properties']['NAME_1'] for k in range(n_provinces)]"
   ]
  },
  {
   "cell_type": "code",
   "execution_count": 5,
   "metadata": {},
   "outputs": [],
   "source": [
    "match_dict = match_regions(df.index, provinces_names)\n",
    "# print(match_dict)\n",
    "\n",
    "sources = make_sources()\n",
    "lons, lats = get_centers()\n",
    "\n",
    "data_slider = []\n",
    "scatter_color_list = []\n",
    "for age in columns[3:24]:\n",
    "    age_data = df[age]\n",
    "    age_data.name = 'province'\n",
    "    # print(age_data.head())\n",
    "\n",
    "    df_tmp = age_data.copy()\n",
    "    df_tmp.index = df_tmp.index.map(match_dict)\n",
    "    df_tmp = df_tmp[~df_tmp.index.duplicated(keep=False)]\n",
    "\n",
    "    df_reindexed = df_tmp.reindex(index = provinces_names)\n",
    "\n",
    "    colormap = 'Blues'\n",
    "    cmin = df_reindexed.min()\n",
    "    cmax = df_reindexed.max()\n",
    "\n",
    "    sm = scalarmappable(colormap, cmin, cmax)\n",
    "    scatter_colors = get_scatter_colors(sm, df_reindexed)\n",
    "    colorscale = get_colorscale(sm, df_reindexed, cmin, cmax)\n",
    "    hover_text = get_hover_text(df_reindexed)\n",
    "\n",
    "    scatter_color_list.append(scatter_colors)\n",
    "\n",
    "    tickformat = \"\"\n",
    "\n",
    "    data = dict(type='scattermapbox',\n",
    "                lat=lats,\n",
    "                lon=lons,\n",
    "                mode='markers',\n",
    "                text=hover_text,\n",
    "                marker=dict(size=1,\n",
    "                            color=scatter_colors,\n",
    "                            showscale = True,\n",
    "                            cmin = df_reindexed.min(),\n",
    "                            cmax = df_reindexed.max(),\n",
    "                            colorscale = colorscale,\n",
    "                            colorbar = dict(tickformat = tickformat)\n",
    "                           ),\n",
    "                showlegend=False,\n",
    "                hoverinfo='text'\n",
    "                )\n",
    "\n",
    "\n",
    "    data_slider.append(data)\n",
    "    \n",
    "# print(data_slider)"
   ]
  },
  {
   "cell_type": "code",
   "execution_count": 6,
   "metadata": {},
   "outputs": [],
   "source": [
    "layouts = get_data_layout(data_slider)\n",
    "# print(layouts)"
   ]
  },
  {
   "cell_type": "code",
   "execution_count": 20,
   "metadata": {},
   "outputs": [],
   "source": [
    "figs = []\n",
    "for i in range(len(data_slider)):\n",
    "    figs.append(dict(data=[data_slider[i]], layout=layouts[i]))"
   ]
  },
  {
   "cell_type": "code",
   "execution_count": 22,
   "metadata": {},
   "outputs": [
    {
     "data": {
      "text/plain": [
       "'temp-plot.html'"
      ]
     },
     "execution_count": 22,
     "metadata": {},
     "output_type": "execute_result"
    }
   ],
   "source": [
    "# fig = figs[1]\n",
    "# fig\n",
    "# py.plot(fig)"
   ]
  },
  {
   "cell_type": "code",
   "execution_count": 28,
   "metadata": {
    "scrolled": true
   },
   "outputs": [],
   "source": [
    "f = go.FigureWidget()\n"
   ]
  },
  {
   "cell_type": "code",
   "execution_count": 29,
   "metadata": {},
   "outputs": [
    {
     "data": {
      "application/vnd.jupyter.widget-view+json": {
       "model_id": "3ce671b2d54c410a9e1331df28e5ed79",
       "version_major": 2,
       "version_minor": 0
      },
      "text/plain": [
       "IntSlider(value=0, description='year', max=20)"
      ]
     },
     "metadata": {},
     "output_type": "display_data"
    }
   ],
   "source": [
    "slider = widgets.IntSlider(min=0,\n",
    "                           max=20,\n",
    "                           step=1,\n",
    "                           description='year',\n",
    "                           orientation='horizontal',\n",
    "                           readout=True,\n",
    "                           readout_format='d')\n",
    "\n",
    "slider"
   ]
  },
  {
   "cell_type": "code",
   "execution_count": 36,
   "metadata": {},
   "outputs": [],
   "source": [
    "def show_map_for_each_data(x):\n",
    "    return go.FigureWidget(figs[x])"
   ]
  },
  {
   "cell_type": "code",
   "execution_count": 37,
   "metadata": {},
   "outputs": [
    {
     "data": {
      "application/vnd.jupyter.widget-view+json": {
       "model_id": "cf47ad76e47e42d9ab4bd04c3881934e",
       "version_major": 2,
       "version_minor": 0
      },
      "text/plain": [
       "interactive(children=(IntSlider(value=10, description='x', max=20), Output()), _dom_classes=('widget-interact'…"
      ]
     },
     "metadata": {},
     "output_type": "display_data"
    },
    {
     "data": {
      "text/plain": [
       "<function __main__.show_map_for_each_data(x)>"
      ]
     },
     "execution_count": 37,
     "metadata": {},
     "output_type": "execute_result"
    }
   ],
   "source": [
    "interact(show_map_for_each_data, x=(0, 20))"
   ]
  },
  {
   "cell_type": "code",
   "execution_count": null,
   "metadata": {},
   "outputs": [],
   "source": []
  }
 ],
 "metadata": {
  "kernelspec": {
   "display_name": "Python 3",
   "language": "python",
   "name": "python3"
  },
  "language_info": {
   "codemirror_mode": {
    "name": "ipython",
    "version": 3
   },
   "file_extension": ".py",
   "mimetype": "text/x-python",
   "name": "python",
   "nbconvert_exporter": "python",
   "pygments_lexer": "ipython3",
   "version": "3.7.3"
  }
 },
 "nbformat": 4,
 "nbformat_minor": 2
}
